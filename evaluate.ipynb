{
 "cells": [
  {
   "cell_type": "code",
   "execution_count": 1,
   "metadata": {},
   "outputs": [
    {
     "name": "stderr",
     "output_type": "stream",
     "text": [
      "Using TensorFlow backend.\n"
     ]
    }
   ],
   "source": [
    "import os\n",
    "from pyson.utils import *\n",
    "from nltk.metrics.distance import edit_distance\n",
    "from tensorflow.python import keras\n",
    "from libmodel import ctc_beam_decode, get_latest_checkpoint\n",
    "from tf_dataset import get_generator\n",
    "import sys\n",
    "import libmodel"
   ]
  },
  {
   "cell_type": "code",
   "execution_count": 2,
   "metadata": {},
   "outputs": [
    {
     "name": "stdout",
     "output_type": "stream",
     "text": [
      "Found 1 files h5\n",
      "LOAD:  frozen_model/ocr_3811/chunhat.h5\n"
     ]
    }
   ],
   "source": [
    "def load_model_keras(output_dir, weights_path='weights.h5'):\n",
    "    from tensorflow.python import keras\n",
    "    json_file = open(os.path.join(output_dir, 'model_config.json'), 'r')\n",
    "    loaded_model_json = json_file.read()\n",
    "    json_file.close()\n",
    "    loaded_model = keras.models.model_from_json(loaded_model_json)\n",
    "    loaded_model.load_weights(weights_path)#os.path.join(output_dir, weights_name))\n",
    "    print(\"Loaded model from disk\")\n",
    "    return loaded_model\n",
    "\n",
    "def decode(decode_output, int2word):\n",
    "    str_decode = []\n",
    "    for _ in decode_output:\n",
    "        str_decode.append(''.join([int2word[c] for c in _]))\n",
    "    return str_decode\n",
    "\n",
    "def test(input_batch, int2word, test_fn):\n",
    "    model_output = test_fn([input_batch])[0]\n",
    "    input_length = [model_output.shape[-2]]*model_output.shape[0]\n",
    "    decode_output = ctc_beam_decode(model_output, input_length)[0]\n",
    "    str_decode = decode(decode_output, int2word)\n",
    "    return model_output, model_output, str_decode\n",
    "\n",
    "data_real_paths = ['/mnt/DATA/DATASET/bprost/free_from_bruce/ff_data_rnd_1/label.json',\n",
    "               '/mnt/DATA/DATASET/bprost/free_from_bruce/ff_data_rnd_2/label.json',\n",
    "               '/mnt/DATA/anson/DATASET/poc/ngaythang/label.json',\n",
    "               '/mnt/DATA/anson/DATASET/special_font/label.json']\n",
    "data_real_paths  = data_real_paths[2:3]\n",
    "\n",
    "model_dir = 'frozen_model/ocr_3811/'\n",
    "text2label = read_json(os.path.join(model_dir, 'text2label.json'))\n",
    "\n",
    "model_weights_path = get_latest_checkpoint(model_dir)\n",
    "model_configure = libmodel.cnn_lstm_ctc_model(48, len(text2label))\n",
    "model_configure['model'].load_weights(model_weights_path)\n",
    "print('LOAD: ', model_weights_path)\n",
    "test_fn = keras.backend.function([model_configure['model'].inputs[0]], [model_configure['model'].layers[-5].output])\n",
    "BATCH_SIZE = 1\n",
    "int2word = {int(v):k for k, v in text2label.items()}"
   ]
  },
  {
   "cell_type": "code",
   "execution_count": null,
   "metadata": {},
   "outputs": [],
   "source": []
  },
  {
   "cell_type": "code",
   "execution_count": 3,
   "metadata": {},
   "outputs": [],
   "source": [
    "from tf_dataset import normalize_text\n",
    "test_generator = get_generator(BATCH_SIZE, \\\n",
    "    db_path=['../../../DATASET/poc/ngaythang/label.json'], text2label=text2label, max_sample=-1, mode='test')\n",
    "\n",
    "accumulate_accuracy = []\n",
    "i = 0"
   ]
  },
  {
   "cell_type": "code",
   "execution_count": 4,
   "metadata": {},
   "outputs": [
    {
     "name": "stdout",
     "output_type": "stream",
     "text": [
      "Len of samples:  13\n"
     ]
    },
    {
     "data": {
      "image/png": "[encoded data removed]",
      "text/plain": [
       "<Figure size 360x360 with 1 Axes>"
      ]
     },
     "metadata": {},
     "output_type": "display_data"
    },
    {
     "name": "stdout",
     "output_type": "stream",
     "text": [
      "label: 昭和50年11月30日\n",
      "pred : 昭和50年11月\n",
      "False\n"
     ]
    },
    {
     "data": {
      "image/png": "[encoded data removed]",
      "text/plain": [
       "<Figure size 360x360 with 1 Axes>"
      ]
     },
     "metadata": {},
     "output_type": "display_data"
    },
    {
     "name": "stdout",
     "output_type": "stream",
     "text": [
      "label: 昭和49年1月22日\n",
      "pred : 昭和49年/月2日\n",
      "False\n"
     ]
    },
    {
     "data": {
      "image/png": "[encoded data removed]",
      "text/plain": [
       "<Figure size 360x360 with 1 Axes>"
      ]
     },
     "metadata": {},
     "output_type": "display_data"
    },
    {
     "name": "stdout",
     "output_type": "stream",
     "text": [
      "label: 昭和50年1月6日\n",
      "pred : 昭和o年ﾉ月\n",
      "False\n"
     ]
    },
    {
     "data": {
      "image/png": "[encoded data removed]",
      "text/plain": [
       "<Figure size 360x360 with 1 Axes>"
      ]
     },
     "metadata": {},
     "output_type": "display_data"
    },
    {
     "name": "stdout",
     "output_type": "stream",
     "text": [
      "label: 昭和60年10月1日\n",
      "pred : 昭和6o年月/日\n",
      "False\n"
     ]
    },
    {
     "data": {
      "image/png": "[encoded data removed]",
      "text/plain": [
       "<Figure size 360x360 with 1 Axes>"
      ]
     },
     "metadata": {},
     "output_type": "display_data"
    },
    {
     "name": "stdout",
     "output_type": "stream",
     "text": [
      "label: 2002年10月10日\n",
      "pred : 2002年/ロ月/0日\n",
      "False\n"
     ]
    },
    {
     "data": {
      "image/png": "[encoded data removed]",
      "text/plain": [
       "<Figure size 360x360 with 1 Axes>"
      ]
     },
     "metadata": {},
     "output_type": "display_data"
    },
    {
     "name": "stdout",
     "output_type": "stream",
     "text": [
      "label: 平成12年6月1日\n",
      "pred : 平成し2年月日\n",
      "False\n"
     ]
    },
    {
     "data": {
      "image/png": "[encoded data removed]",
      "text/plain": [
       "<Figure size 360x360 with 1 Axes>"
      ]
     },
     "metadata": {},
     "output_type": "display_data"
    },
    {
     "name": "stdout",
     "output_type": "stream",
     "text": [
      "label: 平成2年1月1日\n",
      "pred : 平成年ノ月・/日-・\n",
      "False\n"
     ]
    },
    {
     "data": {
      "image/png": "[encoded data removed]",
      "text/plain": [
       "<Figure size 360x360 with 1 Axes>"
      ]
     },
     "metadata": {},
     "output_type": "display_data"
    },
    {
     "name": "stdout",
     "output_type": "stream",
     "text": [
      "label: 昭和52年4月1日\n",
      "pred : 昭和52年4月日\n",
      "False\n"
     ]
    },
    {
     "data": {
      "image/png": "[encoded data removed]",
      "text/plain": [
       "<Figure size 360x360 with 1 Axes>"
      ]
     },
     "metadata": {},
     "output_type": "display_data"
    },
    {
     "name": "stdout",
     "output_type": "stream",
     "text": [
      "label: 20年11月30日\n",
      "pred : 2o年(月3日\n",
      "False\n"
     ]
    },
    {
     "data": {
      "image/png": "[encoded data removed]",
      "text/plain": [
       "<Figure size 360x360 with 1 Axes>"
      ]
     },
     "metadata": {},
     "output_type": "display_data"
    },
    {
     "name": "stdout",
     "output_type": "stream",
     "text": [
      "label: 平成26年1月27日\n",
      "pred : 平成26年/月27日\n",
      "False\n"
     ]
    },
    {
     "data": {
      "image/png": "[encoded data removed]",
      "text/plain": [
       "<Figure size 360x360 with 1 Axes>"
      ]
     },
     "metadata": {},
     "output_type": "display_data"
    },
    {
     "name": "stdout",
     "output_type": "stream",
     "text": [
      "label: 昭和53年10月4日\n",
      "pred : 昭和年ノ月ケ日\n",
      "False\n"
     ]
    },
    {
     "data": {
      "image/png": "[encoded data removed]",
      "text/plain": [
       "<Figure size 360x360 with 1 Axes>"
      ]
     },
     "metadata": {},
     "output_type": "display_data"
    },
    {
     "name": "stdout",
     "output_type": "stream",
     "text": [
      "label: 2010年1月21日\n",
      "pred : 2010年/月⾃I日\n",
      "False\n"
     ]
    },
    {
     "data": {
      "image/png": "[encoded data removed]",
      "text/plain": [
       "<Figure size 360x360 with 1 Axes>"
      ]
     },
     "metadata": {},
     "output_type": "display_data"
    },
    {
     "name": "stdout",
     "output_type": "stream",
     "text": [
      "label: 昭和54年10月3日\n",
      "pred : 昭和6年/車月\n",
      "False\n"
     ]
    }
   ],
   "source": [
    "for a, b in test_generator:\n",
    "    i += 1\n",
    "    input_batch = a['the_input']\n",
    "    str_label = a['source_str']\n",
    "    model_output, decode_output, str_decode = test(input_batch, int2word, test_fn)\n",
    "    for img, a,b,c in zip(input_batch,str_label, str_decode, model_output):\n",
    "        l = len(a)\n",
    "        a = normalize_text(a).replace(' ','')\n",
    "        b = normalize_text(b).replace(' ','')\n",
    "        ed_err = edit_distance(a.replace(' ',''), b.replace(' ', ''))\n",
    "        acc=1-ed_err/l\n",
    "        accumulate_accuracy.append(acc)\n",
    "        if True:#acc < 1:\n",
    "            show(img[...,0], size=img.shape[1]//30)\n",
    "            print('label:', a)\n",
    "            print('pred :',b)\n",
    "            print(np.array(a)==np.array(b))\n",
    "    "
   ]
  },
  {
   "cell_type": "code",
   "execution_count": null,
   "metadata": {},
   "outputs": [],
   "source": []
  },
  {
   "cell_type": "code",
   "execution_count": null,
   "metadata": {},
   "outputs": [],
   "source": []
  }
 ],
 "metadata": {
  "kernelspec": {
   "display_name": "Python 3",
   "language": "python",
   "name": "python3"
  },
  "language_info": {
   "codemirror_mode": {
    "name": "ipython",
    "version": 3
   },
   "file_extension": ".py",
   "mimetype": "text/x-python",
   "name": "python",
   "nbconvert_exporter": "python",
   "pygments_lexer": "ipython3",
   "version": "3.6.5"
  }
 },
 "nbformat": 4,
 "nbformat_minor": 2
}
